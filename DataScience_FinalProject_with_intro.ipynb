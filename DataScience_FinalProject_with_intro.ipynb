{
 "cells": [
  {
   "cell_type": "markdown",
   "id": "4787c666",
   "metadata": {},
   "source": [
    "# Data Science Tools and Ecosystem"
   ]
  },
  {
   "cell_type": "markdown",
   "id": "1f16fb23",
   "metadata": {},
   "source": [
    "In this notebook, Data Science Tools and Ecosystem are summarized."
   ]
  },
  {
   "cell_type": "markdown",
   "id": "09bed89f",
   "metadata": {},
   "source": [
    "## Introduction\n",
    "This notebook contains examples of basic data science concepts and operations."
   ]
  },
  {
   "cell_type": "markdown",
   "id": "17300237",
   "metadata": {},
   "source": [
    "## Data Science Languages\n",
    "Python\n",
    "\n",
    "R\n",
    "\n",
    "SQL\n",
    "\n",
    "Scala\n",
    "\n",
    "Java\n",
    "\n",
    "C++\n",
    "\n",
    "Julia\n",
    "\n",
    "JavaScript\n",
    "\n",
    "PHP\n",
    "\n",
    "Go\n",
    "\n",
    "Ruby\n",
    "\n",
    "Visual Basic\n"
   ]
  },
  {
   "cell_type": "markdown",
   "id": "18f53b80",
   "metadata": {},
   "source": [
    "## Data Science Libraries\n",
    "Pandas\n",
    "\n",
    "Numpy\n",
    "\n",
    "Matplotlib\n",
    "\n",
    "Seaborn\n",
    "\n",
    "Scikit-learn\n",
    "\n",
    "Keras\n",
    "\n",
    "TensorFlow\n",
    "\n",
    "PyTorch\n",
    "\n",
    "Apache Spark\n",
    "\n",
    "Vegas\n",
    "\n",
    "Big DL\n",
    "\n",
    "Ggplot2"
   ]
  },
  {
   "cell_type": "markdown",
   "id": "1ddb057b",
   "metadata": {},
   "source": [
    "## Data Science Tools\n",
    "| Tool | Description |\n",
    "|------|------------|\n",
    "| Jupyter Notebook | Interactive coding environment |\n",
    "| RStudio | IDE for R programming |\n",
    "| GitHub | Version control and code sharing |\n",
    "| VS Code | Code editor |"
   ]
  },
  {
   "cell_type": "markdown",
   "id": "897d5e5c",
   "metadata": {},
   "source": [
    "## Arithmetic Expression Examples\n",
    "Below are some basic arithmetic operations in Python."
   ]
  },
  {
   "cell_type": "code",
   "execution_count": null,
   "id": "d875b844",
   "metadata": {},
   "outputs": [],
   "source": [
    "# Multiply and add numbers\n",
    "result = (5 * 3) + 10\n",
    "print(\"Result:\", result)"
   ]
  },
  {
   "cell_type": "code",
   "execution_count": null,
   "id": "ddab5352",
   "metadata": {},
   "outputs": [],
   "source": [
    "# Convert minutes to hours\n",
    "minutes = 135\n",
    "hours = minutes / 60\n",
    "print(minutes, \"minutes is\", hours, \"hours\")"
   ]
  },
  {
   "cell_type": "markdown",
   "id": "446dd763",
   "metadata": {},
   "source": [
    "## Objectives\n",
    "- Learn to use JupyterLite Notebook\n",
    "- Practice Markdown and Code cells\n",
    "- Perform basic arithmetic in Python"
   ]
  },
  {
   "cell_type": "markdown",
   "id": "90e21c74",
   "metadata": {},
   "source": [
    "## Author\n",
    "Mariam Mahmoud"
   ]
  }
 ],
 "metadata": {
  "kernelspec": {
   "display_name": "Python 3",
   "language": "python",
   "name": "python3"
  },
  "language_info": {
   "name": "python",
   "version": "3.13.0"
  }
 },
 "nbformat": 4,
 "nbformat_minor": 5
}
