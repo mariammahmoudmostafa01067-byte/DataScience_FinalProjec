{
 "cells": [
  {
   "cell_type": "markdown",
   "id": "4787c666",
   "metadata": {},
   "source": [
    "# Data Science Tools and Ecosystem"
   ]
  },
  {
   "cell_type": "markdown",
   "id": "1f16fb23",
   "metadata": {},
   "source": [
    "In this notebook, Data Science Tools and Ecosystem are summarized."
   ]
  },
  {
   "cell_type": "markdown",
   "id": "09bed89f",
   "metadata": {},
   "source": [
    "## Introduction\n",
    "This notebook contains examples of basic data science concepts and operations."
   ]
  },
  {
   "cell_type": "markdown",
   "id": "17300237",
   "metadata": {},
   "source": [
    "## Data Science Languages\n",
    "- Python\n",
    "- R\n",
    "- SQL\n",
    "- Julia"
   ]
  },
  {
   "cell_type": "markdown",
   "id": "18f53b80",
   "metadata": {},
   "source": [
    "## Data Science Libraries\n",
    "- NumPy\n",
    "- Pandas\n",
    "- Matplotlib\n",
    "- Seaborn\n",
    "- Scikit-learn"
   ]
  },
  {
   "cell_type": "markdown",
   "id": "1ddb057b",
   "metadata": {},
   "source": [
    "## Data Science Tools\n",
    "| Tool | Description |\n",
    "|------|------------|\n",
    "| Jupyter Notebook | Interactive coding environment |\n",
    "| RStudio | IDE for R programming |\n",
    "| GitHub | Version control and code sharing |\n",
    "| VS Code | Code editor |"
   ]
  },
  {
   "cell_type": "markdown",
   "id": "897d5e5c",
   "metadata": {},
   "source": [
    "## Arithmetic Expression Examples\n",
    "Below are some basic arithmetic operations in Python."
   ]
  },
  {
   "cell_type": "code",
   "execution_count": null,
   "id": "d875b844",
   "metadata": {},
   "outputs": [],
   "source": [
    "# Multiply and add numbers\n",
    "result = (5 * 3) + 10\n",
    "print(\"Result:\", result)"
   ]
  },
  {
   "cell_type": "code",
   "execution_count": null,
   "id": "ddab5352",
   "metadata": {},
   "outputs": [],
   "source": [
    "# Convert minutes to hours\n",
    "minutes = 135\n",
    "hours = minutes / 60\n",
    "print(minutes, \"minutes is\", hours, \"hours\")"
   ]
  },
  {
   "cell_type": "markdown",
   "id": "446dd763",
   "metadata": {},
   "source": [
    "## Objectives\n",
    "- Learn to use JupyterLite Notebook\n",
    "- Practice Markdown and Code cells\n",
    "- Perform basic arithmetic in Python"
   ]
  },
  {
   "cell_type": "markdown",
   "id": "90e21c74",
   "metadata": {},
   "source": [
    "## Author\n",
    "Mariam Mahmoud"
   ]
  }
 ],
 "metadata": {},
 "nbformat": 4,
 "nbformat_minor": 5
}
